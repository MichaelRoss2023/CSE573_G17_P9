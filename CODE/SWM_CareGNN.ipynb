{
  "cells": [
    {
      "cell_type": "code",
      "execution_count": null,
      "metadata": {
        "colab": {
          "base_uri": "https://localhost:8080/"
        },
        "id": "5CqGbFhxQL8R",
        "outputId": "68a835bb-10f5-45aa-8699-9a9ff228faa8"
      },
      "outputs": [
        {
          "output_type": "stream",
          "name": "stdout",
          "text": [
            "Cloning into 'CARE-GNN'...\n",
            "remote: Enumerating objects: 81, done.\u001b[K\n",
            "remote: Counting objects: 100% (81/81), done.\u001b[K\n",
            "remote: Compressing objects: 100% (70/70), done.\u001b[K\n",
            "remote: Total 81 (delta 35), reused 36 (delta 10), pack-reused 0\u001b[K\n",
            "Unpacking objects: 100% (81/81), done.\n"
          ]
        }
      ],
      "source": [
        "!git clone https://github.com/YingtongDou/CARE-GNN.git"
      ]
    },
    {
      "cell_type": "code",
      "execution_count": null,
      "metadata": {
        "colab": {
          "base_uri": "https://localhost:8080/"
        },
        "id": "rcpyCHviRHid",
        "outputId": "4a9ee038-1408-4fe7-c1e7-a2133aae1ffa"
      },
      "outputs": [
        {
          "output_type": "stream",
          "name": "stdout",
          "text": [
            "/content/CARE-GNN\n"
          ]
        }
      ],
      "source": [
        "%cd /content/CARE-GNN"
      ]
    },
    {
      "cell_type": "code",
      "execution_count": null,
      "metadata": {
        "colab": {
          "base_uri": "https://localhost:8080/"
        },
        "id": "03z-BKZwRSCw",
        "outputId": "f5e6a8ec-b506-4eb9-9590-51d77c416263"
      },
      "outputs": [
        {
          "output_type": "stream",
          "name": "stdout",
          "text": [
            "Requirement already satisfied: torch>=1.4.0 in /usr/local/lib/python3.7/dist-packages (from -r requirements.txt (line 1)) (1.10.0+cu111)\n",
            "Requirement already satisfied: numpy>=1.16.4 in /usr/local/lib/python3.7/dist-packages (from -r requirements.txt (line 2)) (1.21.5)\n",
            "Requirement already satisfied: scipy>=1.2.1 in /usr/local/lib/python3.7/dist-packages (from -r requirements.txt (line 3)) (1.4.1)\n",
            "Requirement already satisfied: scikit_learn>=0.21rc2 in /usr/local/lib/python3.7/dist-packages (from -r requirements.txt (line 4)) (1.0.2)\n",
            "Requirement already satisfied: typing-extensions in /usr/local/lib/python3.7/dist-packages (from torch>=1.4.0->-r requirements.txt (line 1)) (4.1.1)\n",
            "Requirement already satisfied: joblib>=0.11 in /usr/local/lib/python3.7/dist-packages (from scikit_learn>=0.21rc2->-r requirements.txt (line 4)) (1.1.0)\n",
            "Requirement already satisfied: threadpoolctl>=2.0.0 in /usr/local/lib/python3.7/dist-packages (from scikit_learn>=0.21rc2->-r requirements.txt (line 4)) (3.1.0)\n"
          ]
        }
      ],
      "source": [
        "!pip3 install -r requirements.txt"
      ]
    },
    {
      "cell_type": "code",
      "execution_count": null,
      "metadata": {
        "colab": {
          "base_uri": "https://localhost:8080/"
        },
        "id": "HccDYMcPRV9T",
        "outputId": "01af3e24-e027-4ba0-e561-6b74510c6d70"
      },
      "outputs": [
        {
          "output_type": "stream",
          "name": "stdout",
          "text": [
            "Archive:  /content/CARE-GNN/data/YelpChi.zip\n",
            "replace YelpChi.mat? [y]es, [n]o, [A]ll, [N]one, [r]ename: y\n",
            "  inflating: YelpChi.mat             \n"
          ]
        }
      ],
      "source": [
        "!unzip /content/CARE-GNN/data/YelpChi.zip"
      ]
    },
    {
      "cell_type": "code",
      "source": [
        "!unzip /content/CARE-GNN/data/Amazon.zip"
      ],
      "metadata": {
        "colab": {
          "base_uri": "https://localhost:8080/"
        },
        "id": "gpGI7eh88eko",
        "outputId": "aece8a31-c7c5-4b0d-bd15-c93c6259ab9b"
      },
      "execution_count": null,
      "outputs": [
        {
          "output_type": "stream",
          "name": "stdout",
          "text": [
            "Archive:  /content/CARE-GNN/data/Amazon.zip\n",
            "  inflating: Amazon.mat              \n"
          ]
        }
      ]
    },
    {
      "cell_type": "code",
      "execution_count": null,
      "metadata": {
        "colab": {
          "base_uri": "https://localhost:8080/"
        },
        "id": "RTtab8ehRqMC",
        "outputId": "145f299d-556d-4e20-a9f0-0c2cf8679356"
      },
      "outputs": [
        {
          "output_type": "stream",
          "name": "stdout",
          "text": [
            "tcmalloc: large alloc 1073741824 bytes == 0x5639db7fa000 @  0x7fb3e67a51e7 0x563955638da8 0x5639556baabf 0x5639556b788e 0x5639556b90eb 0x5639556b7ea2 0x5639556b7b52 0x5639556b7738 0x5639556b90eb 0x5639556b8c24 0x56395574da24 0x5639556b933c 0x5639556b7ea2 0x5639556b6d9c 0x5639555a86f2 0x56395560611c 0x563955605ef0 0x56395567a123 0x5639556077aa 0x5639556758f6 0x563955674a2e 0x563955674723 0x56395573e812 0x56395573eb8d 0x56395573ea36 0x563955716183 0x563955715e2c 0x7fb3e558fc87 0x563955715d0a\n"
          ]
        }
      ],
      "source": [
        "!python3 data_process.py"
      ]
    },
    {
      "cell_type": "code",
      "execution_count": null,
      "metadata": {
        "colab": {
          "base_uri": "https://localhost:8080/"
        },
        "id": "LVGa07yMSWVx",
        "outputId": "183f825a-cdb2-4584-dc91-8bcab0f69eec"
      },
      "outputs": [
        {
          "output_type": "stream",
          "name": "stdout",
          "text": [
            "run on amazon\n",
            "Model: CARE, Inter-AGG: GNN, emb_size: 64.\n",
            "Epoch: 0, loss: 4.171818733215332, time: 0.6208429336547852s\n",
            "GNN F1: 0.4643\n",
            "GNN Accuracy: 0.5482\n",
            "GNN Recall: 0.6522\n",
            "GNN auc: 0.8116\n",
            "GNN ap: 0.4896\n",
            "Label1 F1: 0.4737\n",
            "Label1 Accuracy: 0.9002\n",
            "Label1 Recall: 0.5000\n",
            "Label1 auc: 0.1584\n",
            "Label1 ap: 0.0541\n",
            "Epoch: 1, loss: 4.0929741859436035, time: 0.5915768146514893s\n",
            "epoch scores: [0.018529000932470296, 0.02016535096914356, 0.023438200064774217]\n",
            "rewards: [1, 1, 1]\n",
            "thresholds: [0.52, 0.52, 0.52]\n",
            "Epoch: 2, loss: 4.009581565856934, time: 0.6237187385559082s\n",
            "epoch scores: [0.016037408971318022, 0.018190133981725694, 0.02126397596042732]\n",
            "rewards: [1, 1, 1]\n",
            "thresholds: [0.54, 0.54, 0.54]\n",
            "Epoch: 3, loss: 3.958505153656006, time: 0.6086728572845459s\n",
            "GNN F1: 0.6265\n",
            "GNN Accuracy: 0.7751\n",
            "GNN Recall: 0.7588\n",
            "GNN auc: 0.8514\n",
            "GNN ap: 0.6788\n",
            "Label1 F1: 0.4727\n",
            "Label1 Accuracy: 0.8965\n",
            "Label1 Recall: 0.4979\n",
            "Label1 auc: 0.4019\n",
            "Label1 ap: 0.0747\n",
            "epoch scores: [0.014937871212261557, 0.017659128764409077, 0.020630780480618623]\n",
            "rewards: [1, 1, 1]\n",
            "thresholds: [0.56, 0.56, 0.56]\n",
            "Epoch: 4, loss: 3.9062910079956055, time: 0.5977368354797363s\n",
            "epoch scores: [0.013601629856091708, 0.01725182129242352, 0.019153284283280298]\n",
            "rewards: [1, 1, 1]\n",
            "thresholds: [0.5800000000000001, 0.5800000000000001, 0.5800000000000001]\n",
            "Epoch: 5, loss: 3.8680033683776855, time: 0.6105377674102783s\n",
            "epoch scores: [0.012693086012705624, 0.016786215360183532, 0.017578547126353185]\n",
            "rewards: [1, 1, 1]\n",
            "thresholds: [0.6000000000000001, 0.6000000000000001, 0.6000000000000001]\n",
            "Epoch: 6, loss: 3.8395183086395264, time: 0.597381591796875s\n",
            "GNN F1: 0.7365\n",
            "GNN Accuracy: 0.8875\n",
            "GNN Recall: 0.7939\n",
            "GNN auc: 0.8511\n",
            "GNN ap: 0.6646\n",
            "Label1 F1: 0.4845\n",
            "Label1 Accuracy: 0.8070\n",
            "Label1 Recall: 0.4855\n",
            "Label1 auc: 0.6242\n",
            "Label1 ap: 0.1154\n",
            "epoch scores: [0.012132325083896122, 0.015895893366190437, 0.01570997716570429]\n",
            "rewards: [1, 1, 1]\n",
            "thresholds: [0.6200000000000001, 0.6200000000000001, 0.6200000000000001]\n",
            "Epoch: 7, loss: 3.786452531814575, time: 1.3987910747528076s\n",
            "epoch scores: [0.011942389858338634, 0.014100835878814319, 0.013740993203515565]\n",
            "rewards: [1, 1, 1]\n",
            "thresholds: [0.6400000000000001, 0.6400000000000001, 0.6400000000000001]\n",
            "Epoch: 8, loss: 3.7428970336914062, time: 0.6243047714233398s\n",
            "epoch scores: [0.011972668435555948, 0.011762387294258023, 0.01138284750557372]\n",
            "rewards: [-1, 1, 1]\n",
            "thresholds: [0.6200000000000001, 0.6600000000000001, 0.6600000000000001]\n",
            "Epoch: 9, loss: 3.712486743927002, time: 0.6288275718688965s\n",
            "GNN F1: 0.7424\n",
            "GNN Accuracy: 0.8833\n",
            "GNN Recall: 0.8119\n",
            "GNN auc: 0.8677\n",
            "GNN ap: 0.6930\n",
            "Label1 F1: 0.5008\n",
            "Label1 Accuracy: 0.6245\n",
            "Label1 Recall: 0.6354\n",
            "Label1 auc: 0.7036\n",
            "Label1 ap: 0.1558\n",
            "epoch scores: [0.01239464520468043, 0.01081636631062707, 0.009563891905364408]\n",
            "rewards: [-1, 1, 1]\n",
            "thresholds: [0.6000000000000001, 0.6800000000000002, 0.6800000000000002]\n",
            "Epoch: 10, loss: 3.631621837615967, time: 0.6248998641967773s\n",
            "epoch scores: [0.01335628984349783, 0.013249148914976467, 0.008887059664355861]\n",
            "rewards: [-1, -1, 1]\n",
            "thresholds: [0.5800000000000001, 0.6600000000000001, 0.7000000000000002]\n",
            "Epoch: 11, loss: 3.5747005939483643, time: 0.6652390956878662s\n",
            "epoch scores: [0.016433314702108962, 0.017837086380235456, 0.0095935122387215]\n",
            "rewards: [-1, -1, -1]\n",
            "thresholds: [0.56, 0.6400000000000001, 0.6800000000000002]\n",
            "Epoch: 12, loss: 3.5423924922943115, time: 0.6537103652954102s\n",
            "GNN F1: 0.7205\n",
            "GNN Accuracy: 0.8615\n",
            "GNN Recall: 0.8167\n",
            "GNN auc: 0.8858\n",
            "GNN ap: 0.7482\n",
            "Label1 F1: 0.4573\n",
            "Label1 Accuracy: 0.5418\n",
            "Label1 Recall: 0.6397\n",
            "Label1 auc: 0.7575\n",
            "Label1 ap: 0.2095\n",
            "epoch scores: [0.01947086213384637, 0.02236818933053672, 0.010976272721005206]\n",
            "rewards: [-1, -1, -1]\n",
            "thresholds: [0.54, 0.6200000000000001, 0.6600000000000001]\n",
            "Epoch: 13, loss: 3.5163233280181885, time: 1.3936760425567627s\n",
            "epoch scores: [0.022161985574962354, 0.02677330106914678, 0.012346323056754739]\n",
            "rewards: [-1, -1, -1]\n",
            "thresholds: [0.52, 0.6000000000000001, 0.6400000000000001]\n",
            "Epoch: 14, loss: 3.4473648071289062, time: 0.6307582855224609s\n",
            "epoch scores: [0.024817760680805313, 0.03101902994821455, 0.014417239125619088]\n",
            "rewards: [-1, -1, -1]\n",
            "thresholds: [0.5, 0.5800000000000001, 0.6200000000000001]\n",
            "Epoch: 15, loss: 3.4024674892425537, time: 0.6590721607208252s\n",
            "GNN F1: 0.7907\n",
            "GNN Accuracy: 0.9123\n",
            "GNN Recall: 0.8410\n",
            "GNN auc: 0.8943\n",
            "GNN ap: 0.7829\n",
            "Label1 F1: 0.4495\n",
            "Label1 Accuracy: 0.5254\n",
            "Label1 Recall: 0.6434\n",
            "Label1 auc: 0.7922\n",
            "Label1 ap: 0.2741\n",
            "epoch scores: [0.02739968802817593, 0.03491061372969091, 0.01688755060171877]\n",
            "rewards: [-1, -1, -1]\n",
            "thresholds: [0.48, 0.56, 0.6000000000000001]\n",
            "Epoch: 16, loss: 3.4008753299713135, time: 0.6259522438049316s\n",
            "epoch scores: [0.029342329783635285, 0.03830927797105193, 0.019001919061317134]\n",
            "rewards: [-1, -1, -1]\n",
            "thresholds: [0.45999999999999996, 0.54, 0.5800000000000001]\n",
            "Epoch: 17, loss: 3.3567874431610107, time: 0.5952229499816895s\n",
            "epoch scores: [0.03208256163077089, 0.04138944517250192, 0.021236106417992826]\n",
            "rewards: [-1, -1, -1]\n",
            "thresholds: [0.43999999999999995, 0.52, 0.56]\n",
            "Epoch: 18, loss: 3.334160804748535, time: 0.5967073440551758s\n",
            "GNN F1: 0.8398\n",
            "GNN Accuracy: 0.9406\n",
            "GNN Recall: 0.8474\n",
            "GNN auc: 0.9036\n",
            "GNN ap: 0.8007\n",
            "Label1 F1: 0.4617\n",
            "Label1 Accuracy: 0.5430\n",
            "Label1 Recall: 0.6540\n",
            "Label1 auc: 0.8163\n",
            "Label1 ap: 0.3539\n",
            "epoch scores: [0.034550198774734954, 0.04420118646742752, 0.02278879132807831]\n",
            "rewards: [-1, -1, -1]\n",
            "thresholds: [0.41999999999999993, 0.5, 0.54]\n",
            "Epoch: 19, loss: 3.3321354389190674, time: 1.3425090312957764s\n",
            "epoch scores: [0.03687738025769707, 0.04678712927330142, 0.024678976939057864]\n",
            "rewards: [-1, -1, -1]\n",
            "thresholds: [0.3999999999999999, 0.48, 0.52]\n",
            "Epoch: 20, loss: 3.314145803451538, time: 0.6132454872131348s\n",
            "epoch scores: [0.03905910272741322, 0.04902757020614249, 0.02618208292599269]\n",
            "rewards: [-1, -1, -1]\n",
            "thresholds: [0.3799999999999999, 0.45999999999999996, 0.5]\n",
            "Epoch: 21, loss: 3.281846284866333, time: 0.5834822654724121s\n",
            "GNN F1: 0.8474\n",
            "GNN Accuracy: 0.9447\n",
            "GNN Recall: 0.8520\n",
            "GNN auc: 0.9072\n",
            "GNN ap: 0.8080\n",
            "Label1 F1: 0.4852\n",
            "Label1 Accuracy: 0.5781\n",
            "Label1 Recall: 0.6703\n",
            "Label1 auc: 0.8329\n",
            "Label1 ap: 0.4469\n",
            "epoch scores: [0.04086835205693898, 0.051236239021014825, 0.0275756534917847]\n",
            "rewards: [-1, -1, -1]\n",
            "thresholds: [0.3599999999999999, 0.43999999999999995, 0.48]\n",
            "Epoch: 22, loss: 3.253749370574951, time: 0.6010525226593018s\n",
            "epoch scores: [0.04292656412479963, 0.053161797497823765, 0.02771413234801128]\n",
            "rewards: [-1, -1, -1]\n",
            "thresholds: [0.33999999999999986, 0.41999999999999993, 0.45999999999999996]\n",
            "Epoch: 23, loss: 3.2362632751464844, time: 0.6041102409362793s\n",
            "epoch scores: [0.04448473257664806, 0.054854148072303544, 0.02936822363700562]\n",
            "rewards: [-1, -1, -1]\n",
            "thresholds: [0.31999999999999984, 0.3999999999999999, 0.43999999999999995]\n",
            "Epoch: 24, loss: 3.1791653633117676, time: 0.6129312515258789s\n",
            "GNN F1: 0.8350\n",
            "GNN Accuracy: 0.9372\n",
            "GNN Recall: 0.8556\n",
            "GNN auc: 0.9084\n",
            "GNN ap: 0.8137\n",
            "Label1 F1: 0.5224\n",
            "Label1 Accuracy: 0.6335\n",
            "Label1 Recall: 0.6953\n",
            "Label1 auc: 0.8446\n",
            "Label1 ap: 0.5374\n",
            "epoch scores: [0.04616123465445614, 0.05638339174860452, 0.030284011525631094]\n",
            "rewards: [-1, -1, -1]\n",
            "thresholds: [0.2999999999999998, 0.3799999999999999, 0.41999999999999993]\n",
            "Epoch: 25, loss: 3.200732707977295, time: 1.2913367748260498s\n",
            "epoch scores: [0.04555391698457641, 0.0576099258624936, 0.03087257899797962]\n",
            "rewards: [1, -1, -1]\n",
            "thresholds: [0.31999999999999984, 0.3599999999999999, 0.3999999999999999]\n",
            "Epoch: 26, loss: 3.1882333755493164, time: 0.5421864986419678s\n",
            "epoch scores: [0.045795893405609155, 0.058763216730094416, 0.03175703019575042]\n",
            "rewards: [-1, -1, -1]\n",
            "thresholds: [0.2999999999999998, 0.33999999999999986, 0.3799999999999999]\n",
            "Epoch: 27, loss: 3.176088809967041, time: 0.5588850975036621s\n",
            "GNN F1: 0.8369\n",
            "GNN Accuracy: 0.9380\n",
            "GNN Recall: 0.8569\n",
            "GNN auc: 0.9114\n",
            "GNN ap: 0.8194\n",
            "Label1 F1: 0.5719\n",
            "Label1 Accuracy: 0.7020\n",
            "Label1 Recall: 0.7302\n",
            "Label1 auc: 0.8525\n",
            "Label1 ap: 0.6072\n",
            "epoch scores: [0.05219036869774114, 0.059658945134543236, 0.0316009617736896]\n",
            "rewards: [-1, -1, 1]\n",
            "thresholds: [0.2799999999999998, 0.31999999999999984, 0.3999999999999999]\n",
            "Epoch: 28, loss: 3.12184739112854, time: 0.5947577953338623s\n",
            "epoch scores: [0.0522557836505941, 0.06043401393331435, 0.03233235872376646]\n",
            "rewards: [-1, -1, -1]\n",
            "thresholds: [0.2599999999999998, 0.2999999999999998, 0.3799999999999999]\n",
            "Epoch: 29, loss: 3.15134334564209, time: 0.5583946704864502s\n",
            "epoch scores: [0.05244876870688701, 0.060941766959737735, 0.03464304486141852]\n",
            "rewards: [-1, -1, -1]\n",
            "thresholds: [0.2399999999999998, 0.2799999999999998, 0.3599999999999999]\n",
            "Epoch: 30, loss: 3.1200356483459473, time: 0.5550315380096436s\n",
            "GNN F1: 0.8592\n",
            "GNN Accuracy: 0.9491\n",
            "GNN Recall: 0.8630\n",
            "GNN auc: 0.9159\n",
            "GNN ap: 0.8255\n",
            "Label1 F1: 0.6178\n",
            "Label1 Accuracy: 0.7588\n",
            "Label1 Recall: 0.7577\n",
            "Label1 auc: 0.8580\n",
            "Label1 ap: 0.6590\n"
          ]
        }
      ],
      "source": [
        "!python3 train.py"
      ]
    },
    {
      "cell_type": "code",
      "execution_count": null,
      "metadata": {
        "id": "umZpMhRgTzBR"
      },
      "outputs": [],
      "source": [
        ""
      ]
    }
  ],
  "metadata": {
    "colab": {
      "name": "SWM_CareGNN.ipynb",
      "provenance": [],
      "collapsed_sections": []
    },
    "kernelspec": {
      "display_name": "Python 3",
      "name": "python3"
    },
    "language_info": {
      "name": "python"
    }
  },
  "nbformat": 4,
  "nbformat_minor": 0
}